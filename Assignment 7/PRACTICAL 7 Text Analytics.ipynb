{
 "cells": [
  {
   "cell_type": "code",
   "execution_count": 1,
   "id": "0d75151a",
   "metadata": {},
   "outputs": [],
   "source": [
    "#Text Analytics"
   ]
  },
  {
   "cell_type": "code",
   "execution_count": 2,
   "id": "a1c9b5ff",
   "metadata": {},
   "outputs": [],
   "source": [
    "import nltk\n",
    "from nltk.corpus import stopwords\n",
    "from nltk.tokenize import word_tokenize\n",
    "from nltk.stem import PorterStemmer, WordNetLemmatizer\n",
    "from sklearn.feature_extraction.text import TfidfVectorizer"
   ]
  },
  {
   "cell_type": "code",
   "execution_count": 3,
   "id": "35f29a83",
   "metadata": {},
   "outputs": [
    {
     "name": "stderr",
     "output_type": "stream",
     "text": [
      "[nltk_data] Downloading package punkt to\n",
      "[nltk_data]     C:\\Users\\HP\\AppData\\Roaming\\nltk_data...\n",
      "[nltk_data]   Package punkt is already up-to-date!\n"
     ]
    },
    {
     "data": {
      "text/plain": [
       "True"
      ]
     },
     "execution_count": 3,
     "metadata": {},
     "output_type": "execute_result"
    }
   ],
   "source": [
    "import nltk\n",
    "nltk.download('punkt')"
   ]
  },
  {
   "cell_type": "code",
   "execution_count": 4,
   "id": "f5a443b3",
   "metadata": {},
   "outputs": [],
   "source": [
    "# Sample document\n",
    "document = \"\"\"\n",
    "hii hello how are you i am fine say bye good night i am happy and also sad a very good morning good afternoon have a nice day so sad today is a good day i am feeling very sad\n",
    "\"\"\""
   ]
  },
  {
   "cell_type": "code",
   "execution_count": 5,
   "id": "44f088c6",
   "metadata": {},
   "outputs": [],
   "source": [
    "# Tokenization\n",
    "tokens = word_tokenize(document)"
   ]
  },
  {
   "cell_type": "code",
   "execution_count": 6,
   "id": "c7e02265",
   "metadata": {},
   "outputs": [
    {
     "name": "stderr",
     "output_type": "stream",
     "text": [
      "[nltk_data] Downloading package averaged_perceptron_tagger to\n",
      "[nltk_data]     C:\\Users\\HP\\AppData\\Roaming\\nltk_data...\n",
      "[nltk_data]   Package averaged_perceptron_tagger is already up-to-\n",
      "[nltk_data]       date!\n"
     ]
    },
    {
     "data": {
      "text/plain": [
       "True"
      ]
     },
     "execution_count": 6,
     "metadata": {},
     "output_type": "execute_result"
    }
   ],
   "source": [
    "import nltk\n",
    "nltk.download('averaged_perceptron_tagger')"
   ]
  },
  {
   "cell_type": "code",
   "execution_count": 7,
   "id": "5e190600",
   "metadata": {},
   "outputs": [],
   "source": [
    "# POS tagging\n",
    "pos_tags = nltk.pos_tag(tokens)"
   ]
  },
  {
   "cell_type": "code",
   "execution_count": 8,
   "id": "afb3a726",
   "metadata": {},
   "outputs": [],
   "source": [
    "# Stop words removal\n",
    "stopwords = set(stopwords.words('english'))\n",
    "filtered_tokens = [token for token in tokens if token.lower() not in stopwords]\n",
    "\n"
   ]
  },
  {
   "cell_type": "code",
   "execution_count": 9,
   "id": "e86134d3",
   "metadata": {},
   "outputs": [],
   "source": [
    "# Stemming\n",
    "stemmer = PorterStemmer()\n",
    "stemmed_tokens = [stemmer.stem(token) for token in filtered_tokens]\n",
    "\n"
   ]
  },
  {
   "cell_type": "code",
   "execution_count": 10,
   "id": "65279129",
   "metadata": {},
   "outputs": [
    {
     "name": "stderr",
     "output_type": "stream",
     "text": [
      "[nltk_data] Downloading package wordnet to\n",
      "[nltk_data]     C:\\Users\\HP\\AppData\\Roaming\\nltk_data...\n",
      "[nltk_data]   Package wordnet is already up-to-date!\n"
     ]
    },
    {
     "data": {
      "text/plain": [
       "True"
      ]
     },
     "execution_count": 10,
     "metadata": {},
     "output_type": "execute_result"
    }
   ],
   "source": [
    "import nltk\n",
    "nltk.download('wordnet')"
   ]
  },
  {
   "cell_type": "code",
   "execution_count": 11,
   "id": "f264fe58",
   "metadata": {},
   "outputs": [],
   "source": [
    "# Lemmatization\n",
    "lemmatizer = WordNetLemmatizer()\n",
    "lemmatized_tokens = [lemmatizer.lemmatize(token) for token in filtered_tokens]\n",
    "\n"
   ]
  },
  {
   "cell_type": "code",
   "execution_count": 12,
   "id": "0df394b8",
   "metadata": {},
   "outputs": [
    {
     "name": "stdout",
     "output_type": "stream",
     "text": [
      "Tokens: ['hii', 'hello', 'how', 'are', 'you', 'i', 'am', 'fine', 'say', 'bye', 'good', 'night', 'i', 'am', 'happy', 'and', 'also', 'sad', 'a', 'very', 'good', 'morning', 'good', 'afternoon', 'have', 'a', 'nice', 'day', 'so', 'sad', 'today', 'is', 'a', 'good', 'day', 'i', 'am', 'feeling', 'very', 'sad']\n"
     ]
    }
   ],
   "source": [
    "# Print the preprocessed tokens\n",
    "print(\"Tokens:\", tokens)"
   ]
  },
  {
   "cell_type": "code",
   "execution_count": 13,
   "id": "c3e8e3bc",
   "metadata": {},
   "outputs": [
    {
     "name": "stdout",
     "output_type": "stream",
     "text": [
      "POS tags: [('hii', 'NN'), ('hello', 'VB'), ('how', 'WRB'), ('are', 'VBP'), ('you', 'PRP'), ('i', 'JJ'), ('am', 'VBP'), ('fine', 'JJ'), ('say', 'VBP'), ('bye', 'RB'), ('good', 'JJ'), ('night', 'NN'), ('i', 'NN'), ('am', 'VBP'), ('happy', 'JJ'), ('and', 'CC'), ('also', 'RB'), ('sad', 'VBP'), ('a', 'DT'), ('very', 'RB'), ('good', 'JJ'), ('morning', 'NN'), ('good', 'JJ'), ('afternoon', 'NN'), ('have', 'VBP'), ('a', 'DT'), ('nice', 'JJ'), ('day', 'NN'), ('so', 'IN'), ('sad', 'JJ'), ('today', 'NN'), ('is', 'VBZ'), ('a', 'DT'), ('good', 'JJ'), ('day', 'NN'), ('i', 'VB'), ('am', 'VBP'), ('feeling', 'VBG'), ('very', 'RB'), ('sad', 'JJ')]\n"
     ]
    }
   ],
   "source": [
    "print(\"POS tags:\", pos_tags)\n"
   ]
  },
  {
   "cell_type": "code",
   "execution_count": 14,
   "id": "40370741",
   "metadata": {},
   "outputs": [
    {
     "name": "stdout",
     "output_type": "stream",
     "text": [
      "Filtered tokens after stop words removal: ['hii', 'hello', 'fine', 'say', 'bye', 'good', 'night', 'happy', 'also', 'sad', 'good', 'morning', 'good', 'afternoon', 'nice', 'day', 'sad', 'today', 'good', 'day', 'feeling', 'sad']\n"
     ]
    }
   ],
   "source": [
    "print(\"Filtered tokens after stop words removal:\", filtered_tokens)\n"
   ]
  },
  {
   "cell_type": "code",
   "execution_count": 15,
   "id": "4a03683a",
   "metadata": {},
   "outputs": [
    {
     "name": "stdout",
     "output_type": "stream",
     "text": [
      "Stemmed tokens: ['hii', 'hello', 'fine', 'say', 'bye', 'good', 'night', 'happi', 'also', 'sad', 'good', 'morn', 'good', 'afternoon', 'nice', 'day', 'sad', 'today', 'good', 'day', 'feel', 'sad']\n"
     ]
    }
   ],
   "source": [
    "print(\"Stemmed tokens:\", stemmed_tokens)\n"
   ]
  },
  {
   "cell_type": "code",
   "execution_count": 16,
   "id": "c97e601a",
   "metadata": {},
   "outputs": [
    {
     "name": "stdout",
     "output_type": "stream",
     "text": [
      "Lemmatized tokens: ['hii', 'hello', 'fine', 'say', 'bye', 'good', 'night', 'happy', 'also', 'sad', 'good', 'morning', 'good', 'afternoon', 'nice', 'day', 'sad', 'today', 'good', 'day', 'feeling', 'sad']\n"
     ]
    }
   ],
   "source": [
    "print(\"Lemmatized tokens:\", lemmatized_tokens)"
   ]
  },
  {
   "cell_type": "code",
   "execution_count": null,
   "id": "622e6ada",
   "metadata": {},
   "outputs": [],
   "source": []
  },
  {
   "cell_type": "code",
   "execution_count": 17,
   "id": "79699193",
   "metadata": {},
   "outputs": [],
   "source": [
    "# import required module\n",
    "from sklearn.feature_extraction.text import TfidfVectorizer"
   ]
  },
  {
   "cell_type": "code",
   "execution_count": 18,
   "id": "b29f2445",
   "metadata": {},
   "outputs": [],
   "source": [
    "# create object\n",
    "tfidf = TfidfVectorizer()\n",
    " \n",
    "# get tf-df values\n",
    "result = tfidf.fit_transform(lemmatized_tokens)"
   ]
  },
  {
   "cell_type": "code",
   "execution_count": 19,
   "id": "bb155177",
   "metadata": {},
   "outputs": [
    {
     "name": "stdout",
     "output_type": "stream",
     "text": [
      "\n",
      "idf values:\n"
     ]
    },
    {
     "ename": "AttributeError",
     "evalue": "'TfidfVectorizer' object has no attribute 'get_feature_names'",
     "output_type": "error",
     "traceback": [
      "\u001b[1;31m---------------------------------------------------------------------------\u001b[0m",
      "\u001b[1;31mAttributeError\u001b[0m                            Traceback (most recent call last)",
      "Cell \u001b[1;32mIn[19], line 3\u001b[0m\n\u001b[0;32m      1\u001b[0m \u001b[38;5;66;03m# get idf values\u001b[39;00m\n\u001b[0;32m      2\u001b[0m \u001b[38;5;28mprint\u001b[39m(\u001b[38;5;124m'\u001b[39m\u001b[38;5;130;01m\\n\u001b[39;00m\u001b[38;5;124midf values:\u001b[39m\u001b[38;5;124m'\u001b[39m)\n\u001b[1;32m----> 3\u001b[0m \u001b[38;5;28;01mfor\u001b[39;00m ele1, ele2 \u001b[38;5;129;01min\u001b[39;00m \u001b[38;5;28mzip\u001b[39m(\u001b[43mtfidf\u001b[49m\u001b[38;5;241;43m.\u001b[39;49m\u001b[43mget_feature_names\u001b[49m(), tfidf\u001b[38;5;241m.\u001b[39midf_):\n\u001b[0;32m      4\u001b[0m     \u001b[38;5;28mprint\u001b[39m(ele1, \u001b[38;5;124m'\u001b[39m\u001b[38;5;124m:\u001b[39m\u001b[38;5;124m'\u001b[39m, ele2)\n",
      "\u001b[1;31mAttributeError\u001b[0m: 'TfidfVectorizer' object has no attribute 'get_feature_names'"
     ]
    }
   ],
   "source": [
    "# get idf values\n",
    "print('\\nidf values:')\n",
    "for ele1, ele2 in zip(tfidf.get_feature_names(), tfidf.idf_):\n",
    "    print(ele1, ':', ele2)"
   ]
  },
  {
   "cell_type": "code",
   "execution_count": null,
   "id": "247b1767",
   "metadata": {},
   "outputs": [],
   "source": [
    "# get indexing\n",
    "print('\\nWord indexes:')\n",
    "print(tfidf.vocabulary_)\n",
    "\n",
    "# display tf-idf values\n",
    "print('\\ntf-idf value:')\n",
    "print(result)\n",
    "\n",
    "# in matrix form\n",
    "print('\\ntf-idf values in matrix form:')\n",
    "print(result.toarray())\n"
   ]
  },
  {
   "cell_type": "code",
   "execution_count": null,
   "id": "4fbd6511",
   "metadata": {},
   "outputs": [],
   "source": []
  }
 ],
 "metadata": {
  "kernelspec": {
   "display_name": "Python 3 (ipykernel)",
   "language": "python",
   "name": "python3"
  },
  "language_info": {
   "codemirror_mode": {
    "name": "ipython",
    "version": 3
   },
   "file_extension": ".py",
   "mimetype": "text/x-python",
   "name": "python",
   "nbconvert_exporter": "python",
   "pygments_lexer": "ipython3",
   "version": "3.10.10"
  }
 },
 "nbformat": 4,
 "nbformat_minor": 5
}
